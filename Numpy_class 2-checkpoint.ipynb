{
 "cells": [
  {
   "cell_type": "markdown",
   "metadata": {},
   "source": [
    "## Agenda\n",
    "* Numpy introduction\n",
    "* Array Creation->1D,2D,3D\n",
    "* Attributes-> ndim,size,shape,dtype\n",
    "* Functions-> arange,linspace,ravel,random,rand\n",
    "* Stacking->hstack,vstack\n",
    "* Splitting-> hsplit,vsplit\n",
    "* Matrix operations\n",
    "* broadcasting, masking\n",
    "* other functions-> eye,zeros,ones,max,min,copy,transpose,fliplr"
   ]
  },
  {
   "cell_type": "markdown",
   "metadata": {},
   "source": [
    "### Numpy->Numerical Python\n",
    "* homogeneous multidimensional collection of elements\n",
    "* scientific and mathematical computations\n",
    "\n",
    "#### Why use NumPy?\n",
    "\n",
    "* NumPy arrays are faster and more compact than Python lists. \n",
    "* NumPy uses much less memory to store data "
   ]
  },
  {
   "cell_type": "code",
   "execution_count": 2,
   "metadata": {},
   "outputs": [],
   "source": [
    "# import package\n",
    "import numpy as np"
   ]
  },
  {
   "cell_type": "code",
   "execution_count": 4,
   "metadata": {
    "collapsed": true
   },
   "outputs": [
    {
     "data": {
      "text/plain": [
       "array([[[[[[[[[[[[[0.65010601]]]]],\n",
       "\n",
       "\n",
       "\n",
       "\n",
       "              [[[[[0.38818161]]]]]]]]],\n",
       "\n",
       "\n",
       "\n",
       "\n",
       "\n",
       "\n",
       "\n",
       "\n",
       "          [[[[[[[[[0.3312613 ]]]]],\n",
       "\n",
       "\n",
       "\n",
       "\n",
       "              [[[[[0.78539947]]]]]]]]],\n",
       "\n",
       "\n",
       "\n",
       "\n",
       "\n",
       "\n",
       "\n",
       "\n",
       "          [[[[[[[[[0.26697316]]]]],\n",
       "\n",
       "\n",
       "\n",
       "\n",
       "              [[[[[0.84507218]]]]]]]]],\n",
       "\n",
       "\n",
       "\n",
       "\n",
       "\n",
       "\n",
       "\n",
       "\n",
       "          [[[[[[[[[0.43383329]]]]],\n",
       "\n",
       "\n",
       "\n",
       "\n",
       "              [[[[[0.57352747]]]]]]]]],\n",
       "\n",
       "\n",
       "\n",
       "\n",
       "\n",
       "\n",
       "\n",
       "\n",
       "          [[[[[[[[[0.72027343]]]]],\n",
       "\n",
       "\n",
       "\n",
       "\n",
       "              [[[[[0.99358699]]]]]]]]]],\n",
       "\n",
       "\n",
       "\n",
       "\n",
       "\n",
       "\n",
       "\n",
       "\n",
       "\n",
       "         [[[[[[[[[[0.5647127 ]]]]],\n",
       "\n",
       "\n",
       "\n",
       "\n",
       "              [[[[[0.88204756]]]]]]]]],\n",
       "\n",
       "\n",
       "\n",
       "\n",
       "\n",
       "\n",
       "\n",
       "\n",
       "          [[[[[[[[[0.14829428]]]]],\n",
       "\n",
       "\n",
       "\n",
       "\n",
       "              [[[[[0.11381331]]]]]]]]],\n",
       "\n",
       "\n",
       "\n",
       "\n",
       "\n",
       "\n",
       "\n",
       "\n",
       "          [[[[[[[[[0.52446185]]]]],\n",
       "\n",
       "\n",
       "\n",
       "\n",
       "              [[[[[0.27214708]]]]]]]]],\n",
       "\n",
       "\n",
       "\n",
       "\n",
       "\n",
       "\n",
       "\n",
       "\n",
       "          [[[[[[[[[0.6818383 ]]]]],\n",
       "\n",
       "\n",
       "\n",
       "\n",
       "              [[[[[0.12769811]]]]]]]]],\n",
       "\n",
       "\n",
       "\n",
       "\n",
       "\n",
       "\n",
       "\n",
       "\n",
       "          [[[[[[[[[0.02332117]]]]],\n",
       "\n",
       "\n",
       "\n",
       "\n",
       "              [[[[[0.26701821]]]]]]]]]],\n",
       "\n",
       "\n",
       "\n",
       "\n",
       "\n",
       "\n",
       "\n",
       "\n",
       "\n",
       "         [[[[[[[[[[0.25142306]]]]],\n",
       "\n",
       "\n",
       "\n",
       "\n",
       "              [[[[[0.47360583]]]]]]]]],\n",
       "\n",
       "\n",
       "\n",
       "\n",
       "\n",
       "\n",
       "\n",
       "\n",
       "          [[[[[[[[[0.9684105 ]]]]],\n",
       "\n",
       "\n",
       "\n",
       "\n",
       "              [[[[[0.73643061]]]]]]]]],\n",
       "\n",
       "\n",
       "\n",
       "\n",
       "\n",
       "\n",
       "\n",
       "\n",
       "          [[[[[[[[[0.75152118]]]]],\n",
       "\n",
       "\n",
       "\n",
       "\n",
       "              [[[[[0.26570522]]]]]]]]],\n",
       "\n",
       "\n",
       "\n",
       "\n",
       "\n",
       "\n",
       "\n",
       "\n",
       "          [[[[[[[[[0.76799797]]]]],\n",
       "\n",
       "\n",
       "\n",
       "\n",
       "              [[[[[0.44483946]]]]]]]]],\n",
       "\n",
       "\n",
       "\n",
       "\n",
       "\n",
       "\n",
       "\n",
       "\n",
       "          [[[[[[[[[0.88303213]]]]],\n",
       "\n",
       "\n",
       "\n",
       "\n",
       "              [[[[[0.58780096]]]]]]]]]],\n",
       "\n",
       "\n",
       "\n",
       "\n",
       "\n",
       "\n",
       "\n",
       "\n",
       "\n",
       "         [[[[[[[[[[0.63252086]]]]],\n",
       "\n",
       "\n",
       "\n",
       "\n",
       "              [[[[[0.04682486]]]]]]]]],\n",
       "\n",
       "\n",
       "\n",
       "\n",
       "\n",
       "\n",
       "\n",
       "\n",
       "          [[[[[[[[[0.64407735]]]]],\n",
       "\n",
       "\n",
       "\n",
       "\n",
       "              [[[[[0.91511598]]]]]]]]],\n",
       "\n",
       "\n",
       "\n",
       "\n",
       "\n",
       "\n",
       "\n",
       "\n",
       "          [[[[[[[[[0.1764846 ]]]]],\n",
       "\n",
       "\n",
       "\n",
       "\n",
       "              [[[[[0.47888067]]]]]]]]],\n",
       "\n",
       "\n",
       "\n",
       "\n",
       "\n",
       "\n",
       "\n",
       "\n",
       "          [[[[[[[[[0.30055182]]]]],\n",
       "\n",
       "\n",
       "\n",
       "\n",
       "              [[[[[0.00474013]]]]]]]]],\n",
       "\n",
       "\n",
       "\n",
       "\n",
       "\n",
       "\n",
       "\n",
       "\n",
       "          [[[[[[[[[0.68107535]]]]],\n",
       "\n",
       "\n",
       "\n",
       "\n",
       "              [[[[[0.97947416]]]]]]]]]],\n",
       "\n",
       "\n",
       "\n",
       "\n",
       "\n",
       "\n",
       "\n",
       "\n",
       "\n",
       "         [[[[[[[[[[0.68761651]]]]],\n",
       "\n",
       "\n",
       "\n",
       "\n",
       "              [[[[[0.67777291]]]]]]]]],\n",
       "\n",
       "\n",
       "\n",
       "\n",
       "\n",
       "\n",
       "\n",
       "\n",
       "          [[[[[[[[[0.51472831]]]]],\n",
       "\n",
       "\n",
       "\n",
       "\n",
       "              [[[[[0.42995233]]]]]]]]],\n",
       "\n",
       "\n",
       "\n",
       "\n",
       "\n",
       "\n",
       "\n",
       "\n",
       "          [[[[[[[[[0.34545075]]]]],\n",
       "\n",
       "\n",
       "\n",
       "\n",
       "              [[[[[0.89089767]]]]]]]]],\n",
       "\n",
       "\n",
       "\n",
       "\n",
       "\n",
       "\n",
       "\n",
       "\n",
       "          [[[[[[[[[0.69031329]]]]],\n",
       "\n",
       "\n",
       "\n",
       "\n",
       "              [[[[[0.62155425]]]]]]]]],\n",
       "\n",
       "\n",
       "\n",
       "\n",
       "\n",
       "\n",
       "\n",
       "\n",
       "          [[[[[[[[[0.10471616]]]]],\n",
       "\n",
       "\n",
       "\n",
       "\n",
       "              [[[[[0.7415896 ]]]]]]]]]]],\n",
       "\n",
       "\n",
       "\n",
       "\n",
       "\n",
       "\n",
       "\n",
       "\n",
       "\n",
       "\n",
       "        [[[[[[[[[[[0.75881394]]]]],\n",
       "\n",
       "\n",
       "\n",
       "\n",
       "              [[[[[0.39133087]]]]]]]]],\n",
       "\n",
       "\n",
       "\n",
       "\n",
       "\n",
       "\n",
       "\n",
       "\n",
       "          [[[[[[[[[0.00626094]]]]],\n",
       "\n",
       "\n",
       "\n",
       "\n",
       "              [[[[[0.18598083]]]]]]]]],\n",
       "\n",
       "\n",
       "\n",
       "\n",
       "\n",
       "\n",
       "\n",
       "\n",
       "          [[[[[[[[[0.72069857]]]]],\n",
       "\n",
       "\n",
       "\n",
       "\n",
       "              [[[[[0.30214725]]]]]]]]],\n",
       "\n",
       "\n",
       "\n",
       "\n",
       "\n",
       "\n",
       "\n",
       "\n",
       "          [[[[[[[[[0.10619954]]]]],\n",
       "\n",
       "\n",
       "\n",
       "\n",
       "              [[[[[0.54794626]]]]]]]]],\n",
       "\n",
       "\n",
       "\n",
       "\n",
       "\n",
       "\n",
       "\n",
       "\n",
       "          [[[[[[[[[0.9087572 ]]]]],\n",
       "\n",
       "\n",
       "\n",
       "\n",
       "              [[[[[0.94261482]]]]]]]]]],\n",
       "\n",
       "\n",
       "\n",
       "\n",
       "\n",
       "\n",
       "\n",
       "\n",
       "\n",
       "         [[[[[[[[[[0.17177887]]]]],\n",
       "\n",
       "\n",
       "\n",
       "\n",
       "              [[[[[0.73947436]]]]]]]]],\n",
       "\n",
       "\n",
       "\n",
       "\n",
       "\n",
       "\n",
       "\n",
       "\n",
       "          [[[[[[[[[0.7020893 ]]]]],\n",
       "\n",
       "\n",
       "\n",
       "\n",
       "              [[[[[0.62098168]]]]]]]]],\n",
       "\n",
       "\n",
       "\n",
       "\n",
       "\n",
       "\n",
       "\n",
       "\n",
       "          [[[[[[[[[0.36195129]]]]],\n",
       "\n",
       "\n",
       "\n",
       "\n",
       "              [[[[[0.65913291]]]]]]]]],\n",
       "\n",
       "\n",
       "\n",
       "\n",
       "\n",
       "\n",
       "\n",
       "\n",
       "          [[[[[[[[[0.62093509]]]]],\n",
       "\n",
       "\n",
       "\n",
       "\n",
       "              [[[[[0.88345881]]]]]]]]],\n",
       "\n",
       "\n",
       "\n",
       "\n",
       "\n",
       "\n",
       "\n",
       "\n",
       "          [[[[[[[[[0.42880485]]]]],\n",
       "\n",
       "\n",
       "\n",
       "\n",
       "              [[[[[0.84280311]]]]]]]]]],\n",
       "\n",
       "\n",
       "\n",
       "\n",
       "\n",
       "\n",
       "\n",
       "\n",
       "\n",
       "         [[[[[[[[[[0.18270413]]]]],\n",
       "\n",
       "\n",
       "\n",
       "\n",
       "              [[[[[0.98927354]]]]]]]]],\n",
       "\n",
       "\n",
       "\n",
       "\n",
       "\n",
       "\n",
       "\n",
       "\n",
       "          [[[[[[[[[0.70658632]]]]],\n",
       "\n",
       "\n",
       "\n",
       "\n",
       "              [[[[[0.89439797]]]]]]]]],\n",
       "\n",
       "\n",
       "\n",
       "\n",
       "\n",
       "\n",
       "\n",
       "\n",
       "          [[[[[[[[[0.56551605]]]]],\n",
       "\n",
       "\n",
       "\n",
       "\n",
       "              [[[[[0.85373157]]]]]]]]],\n",
       "\n",
       "\n",
       "\n",
       "\n",
       "\n",
       "\n",
       "\n",
       "\n",
       "          [[[[[[[[[0.13200339]]]]],\n",
       "\n",
       "\n",
       "\n",
       "\n",
       "              [[[[[0.16693126]]]]]]]]],\n",
       "\n",
       "\n",
       "\n",
       "\n",
       "\n",
       "\n",
       "\n",
       "\n",
       "          [[[[[[[[[0.01269546]]]]],\n",
       "\n",
       "\n",
       "\n",
       "\n",
       "              [[[[[0.06446763]]]]]]]]]],\n",
       "\n",
       "\n",
       "\n",
       "\n",
       "\n",
       "\n",
       "\n",
       "\n",
       "\n",
       "         [[[[[[[[[[0.15576202]]]]],\n",
       "\n",
       "\n",
       "\n",
       "\n",
       "              [[[[[0.68534431]]]]]]]]],\n",
       "\n",
       "\n",
       "\n",
       "\n",
       "\n",
       "\n",
       "\n",
       "\n",
       "          [[[[[[[[[0.32589232]]]]],\n",
       "\n",
       "\n",
       "\n",
       "\n",
       "              [[[[[0.52545056]]]]]]]]],\n",
       "\n",
       "\n",
       "\n",
       "\n",
       "\n",
       "\n",
       "\n",
       "\n",
       "          [[[[[[[[[0.99773196]]]]],\n",
       "\n",
       "\n",
       "\n",
       "\n",
       "              [[[[[0.72630881]]]]]]]]],\n",
       "\n",
       "\n",
       "\n",
       "\n",
       "\n",
       "\n",
       "\n",
       "\n",
       "          [[[[[[[[[0.20205721]]]]],\n",
       "\n",
       "\n",
       "\n",
       "\n",
       "              [[[[[0.50097428]]]]]]]]],\n",
       "\n",
       "\n",
       "\n",
       "\n",
       "\n",
       "\n",
       "\n",
       "\n",
       "          [[[[[[[[[0.24102239]]]]],\n",
       "\n",
       "\n",
       "\n",
       "\n",
       "              [[[[[0.62348217]]]]]]]]]],\n",
       "\n",
       "\n",
       "\n",
       "\n",
       "\n",
       "\n",
       "\n",
       "\n",
       "\n",
       "         [[[[[[[[[[0.48223195]]]]],\n",
       "\n",
       "\n",
       "\n",
       "\n",
       "              [[[[[0.18520869]]]]]]]]],\n",
       "\n",
       "\n",
       "\n",
       "\n",
       "\n",
       "\n",
       "\n",
       "\n",
       "          [[[[[[[[[0.85036777]]]]],\n",
       "\n",
       "\n",
       "\n",
       "\n",
       "              [[[[[0.46331387]]]]]]]]],\n",
       "\n",
       "\n",
       "\n",
       "\n",
       "\n",
       "\n",
       "\n",
       "\n",
       "          [[[[[[[[[0.75883985]]]]],\n",
       "\n",
       "\n",
       "\n",
       "\n",
       "              [[[[[0.99539134]]]]]]]]],\n",
       "\n",
       "\n",
       "\n",
       "\n",
       "\n",
       "\n",
       "\n",
       "\n",
       "          [[[[[[[[[0.85104235]]]]],\n",
       "\n",
       "\n",
       "\n",
       "\n",
       "              [[[[[0.95262719]]]]]]]]],\n",
       "\n",
       "\n",
       "\n",
       "\n",
       "\n",
       "\n",
       "\n",
       "\n",
       "          [[[[[[[[[0.72810221]]]]],\n",
       "\n",
       "\n",
       "\n",
       "\n",
       "              [[[[[0.47599779]]]]]]]]]]]]])"
      ]
     },
     "execution_count": 4,
     "metadata": {},
     "output_type": "execute_result"
    }
   ],
   "source": [
    "np.random.random(100).reshape(1,2,5,5,1,1,1,2,1,1,1,1,1)"
   ]
  },
  {
   "cell_type": "code",
   "execution_count": 5,
   "metadata": {},
   "outputs": [
    {
     "data": {
      "text/plain": [
       "array([ 5,  6,  9, 15])"
      ]
     },
     "execution_count": 5,
     "metadata": {},
     "output_type": "execute_result"
    }
   ],
   "source": [
    "# 1D Array\n",
    "a1 = np.array([5,6,9,15])\n",
    "a1"
   ]
  },
  {
   "cell_type": "code",
   "execution_count": 6,
   "metadata": {},
   "outputs": [
    {
     "data": {
      "text/plain": [
       "numpy.ndarray"
      ]
     },
     "execution_count": 6,
     "metadata": {},
     "output_type": "execute_result"
    }
   ],
   "source": [
    "type(a1)"
   ]
  },
  {
   "cell_type": "code",
   "execution_count": 8,
   "metadata": {},
   "outputs": [
    {
     "name": "stdout",
     "output_type": "stream",
     "text": [
      "1\n",
      "4\n",
      "int32\n",
      "(4,)\n"
     ]
    }
   ],
   "source": [
    "# Attributes \n",
    "print(a1.ndim) # dimension of array\n",
    "print(a1.size)  # no of elements\n",
    "print(a1.dtype) # dtype of elements\n",
    "print(a1.shape) # no of elements each dimension"
   ]
  },
  {
   "cell_type": "code",
   "execution_count": 9,
   "metadata": {},
   "outputs": [
    {
     "data": {
      "text/plain": [
       "array([[ 4,  5,  6],\n",
       "       [14,  5, 16],\n",
       "       [24, 65, 16],\n",
       "       [48, 85, 61]])"
      ]
     },
     "execution_count": 9,
     "metadata": {},
     "output_type": "execute_result"
    }
   ],
   "source": [
    "# 2D Array shape (4,3)\n",
    "a2 = np.array([[4,5,6],[14,5,16],[24,65,16],[48,85,61]])\n",
    "a2"
   ]
  },
  {
   "cell_type": "code",
   "execution_count": 10,
   "metadata": {},
   "outputs": [
    {
     "name": "stdout",
     "output_type": "stream",
     "text": [
      "2\n",
      "12\n",
      "int32\n",
      "(4, 3)\n"
     ]
    }
   ],
   "source": [
    "print(a2.ndim) # dimension of array\n",
    "print(a2.size)  # no of elements\n",
    "print(a2.dtype) # dtype of elements\n",
    "print(a2.shape)"
   ]
  },
  {
   "cell_type": "code",
   "execution_count": 12,
   "metadata": {
    "scrolled": true
   },
   "outputs": [
    {
     "data": {
      "text/plain": [
       "array([[ 4.5,  5. ,  6. ],\n",
       "       [14. ,  5. ,  6. ],\n",
       "       [24. , 65. , 16. ],\n",
       "       [48. , 85. , 61. ]])"
      ]
     },
     "execution_count": 12,
     "metadata": {},
     "output_type": "execute_result"
    }
   ],
   "source": [
    "a3 = np.array([[4.5,5,6],[14,5,6],[24,65,16],[48,85,61]])\n",
    "a3"
   ]
  },
  {
   "cell_type": "code",
   "execution_count": 13,
   "metadata": {
    "scrolled": true
   },
   "outputs": [
    {
     "data": {
      "text/plain": [
       "array([[1, 2],\n",
       "       [3, 4],\n",
       "       [5, 6],\n",
       "       [7, 8]])"
      ]
     },
     "execution_count": 13,
     "metadata": {},
     "output_type": "execute_result"
    }
   ],
   "source": [
    "# Create 2D array of shape(4,2)\n",
    "a2=np.array([[1,2],[3,4],[5,6],[7,8]])\n",
    "a2"
   ]
  },
  {
   "cell_type": "code",
   "execution_count": 14,
   "metadata": {},
   "outputs": [
    {
     "name": "stdout",
     "output_type": "stream",
     "text": [
      "2\n",
      "8\n",
      "int32\n",
      "(4, 2)\n"
     ]
    }
   ],
   "source": [
    "print(a2.ndim) # dimension of array\n",
    "print(a2.size)  # no of elements\n",
    "print(a2.dtype) # dtype of elements\n",
    "print(a2.shape)"
   ]
  },
  {
   "cell_type": "code",
   "execution_count": 16,
   "metadata": {},
   "outputs": [
    {
     "data": {
      "text/plain": [
       "array([[[2, 2, 1],\n",
       "        [2, 1, 1]],\n",
       "\n",
       "       [[2, 2, 2],\n",
       "        [7, 6, 5]]])"
      ]
     },
     "execution_count": 16,
     "metadata": {},
     "output_type": "execute_result"
    }
   ],
   "source": [
    "#3D Arrays shape(2,2,3)\n",
    "a2 = np.array([[[2, 2, 1],[2, 1, 1]],[[2, 2, 2],[7, 6, 5]]])\n",
    "a2\n"
   ]
  },
  {
   "cell_type": "code",
   "execution_count": 17,
   "metadata": {},
   "outputs": [
    {
     "name": "stdout",
     "output_type": "stream",
     "text": [
      "3\n",
      "12\n",
      "int32\n",
      "(2, 2, 3)\n"
     ]
    }
   ],
   "source": [
    "print(a2.ndim) # dimension of array\n",
    "print(a2.size)  # no of elements\n",
    "print(a2.dtype) # dtype of elements\n",
    "print(a2.shape)"
   ]
  },
  {
   "cell_type": "code",
   "execution_count": 27,
   "metadata": {},
   "outputs": [
    {
     "data": {
      "text/plain": [
       "array([[[2, 2, 3],\n",
       "        [2, 5, 6]],\n",
       "\n",
       "       [[7, 8, 9],\n",
       "        [3, 7, 5]]])"
      ]
     },
     "execution_count": 27,
     "metadata": {},
     "output_type": "execute_result"
    }
   ],
   "source": [
    "a3=np.array([[[2,2,3],[2,5,6]],[[7,8,9],[3,7,5]]])\n",
    "a3"
   ]
  },
  {
   "cell_type": "code",
   "execution_count": 25,
   "metadata": {},
   "outputs": [
    {
     "name": "stdout",
     "output_type": "stream",
     "text": [
      "1.19.5\n"
     ]
    }
   ],
   "source": [
    "print(np.version.version)"
   ]
  },
  {
   "cell_type": "code",
   "execution_count": 28,
   "metadata": {
    "collapsed": true
   },
   "outputs": [
    {
     "name": "stdout",
     "output_type": "stream",
     "text": [
      "Help on built-in function print in module builtins:\n",
      "\n",
      "print(...)\n",
      "    print(value, ..., sep=' ', end='\\n', file=sys.stdout, flush=False)\n",
      "    \n",
      "    Prints the values to a stream, or to sys.stdout by default.\n",
      "    Optional keyword arguments:\n",
      "    file:  a file-like object (stream); defaults to the current sys.stdout.\n",
      "    sep:   string inserted between values, default a space.\n",
      "    end:   string appended after the last value, default a newline.\n",
      "    flush: whether to forcibly flush the stream.\n",
      "\n"
     ]
    }
   ],
   "source": [
    "help('print')"
   ]
  },
  {
   "cell_type": "code",
   "execution_count": 4,
   "metadata": {
    "scrolled": true
   },
   "outputs": [
    {
     "name": "stdout",
     "output_type": "stream",
     "text": [
      "[[11 12  5  2]\n",
      " [15 45  6 10]\n",
      " [10  8 12  5]\n",
      " [12 15  8  6]]\n"
     ]
    }
   ],
   "source": [
    "c=np.array([[11, 12, 5, 2], [15,45, 6,10], [10, 8, 12, 5], [12,15,8,6]])\n",
    "\n",
    "print(c)\n"
   ]
  },
  {
   "cell_type": "code",
   "execution_count": 7,
   "metadata": {},
   "outputs": [
    {
     "data": {
      "text/plain": [
       "numpy.ndarray"
      ]
     },
     "execution_count": 7,
     "metadata": {},
     "output_type": "execute_result"
    }
   ],
   "source": [
    "type(c)"
   ]
  },
  {
   "cell_type": "code",
   "execution_count": 5,
   "metadata": {},
   "outputs": [
    {
     "name": "stdout",
     "output_type": "stream",
     "text": [
      "[12, 15, 8, 6]\n"
     ]
    }
   ],
   "source": [
    "T = [[11, 12, 5, 2], [15, 6,10], [10, 8, 12, 5], [12,15,8,6]]\n",
    "print(T[3])\n"
   ]
  },
  {
   "cell_type": "code",
   "execution_count": 6,
   "metadata": {},
   "outputs": [
    {
     "data": {
      "text/plain": [
       "list"
      ]
     },
     "execution_count": 6,
     "metadata": {},
     "output_type": "execute_result"
    }
   ],
   "source": [
    "type(T)"
   ]
  },
  {
   "cell_type": "markdown",
   "metadata": {},
   "source": [
    "#### Functions-> arange,linspace,ravel,reshape,random,rand"
   ]
  },
  {
   "cell_type": "code",
   "execution_count": 8,
   "metadata": {},
   "outputs": [
    {
     "data": {
      "text/plain": [
       "array([0, 1, 2, 3, 4])"
      ]
     },
     "execution_count": 8,
     "metadata": {},
     "output_type": "execute_result"
    }
   ],
   "source": [
    "# arange->3 parameters->start,stop(E),step\n",
    "np.arange(5) # stop(E)"
   ]
  },
  {
   "cell_type": "code",
   "execution_count": 9,
   "metadata": {},
   "outputs": [
    {
     "data": {
      "text/plain": [
       "array([ 1,  2,  3,  4,  5,  6,  7,  8,  9, 10])"
      ]
     },
     "execution_count": 9,
     "metadata": {},
     "output_type": "execute_result"
    }
   ],
   "source": [
    "np.arange(1,11) # start,stop(E)"
   ]
  },
  {
   "cell_type": "code",
   "execution_count": 11,
   "metadata": {},
   "outputs": [
    {
     "data": {
      "text/plain": [
       "array([ 1,  4,  7, 10])"
      ]
     },
     "execution_count": 11,
     "metadata": {},
     "output_type": "execute_result"
    }
   ],
   "source": [
    "np.arange(1,11,3)#start,stop(E),step"
   ]
  },
  {
   "cell_type": "code",
   "execution_count": 13,
   "metadata": {},
   "outputs": [
    {
     "data": {
      "text/plain": [
       "array([50, 48, 46, 44, 42])"
      ]
     },
     "execution_count": 13,
     "metadata": {},
     "output_type": "execute_result"
    }
   ],
   "source": [
    "#Q) Generate an array 50 to 41 by using arange function\n",
    "np.arange(50,40,-2)"
   ]
  },
  {
   "cell_type": "code",
   "execution_count": 14,
   "metadata": {},
   "outputs": [
    {
     "data": {
      "text/plain": [
       "array([ 1.  ,  3.25,  5.5 ,  7.75, 10.  ])"
      ]
     },
     "execution_count": 14,
     "metadata": {},
     "output_type": "execute_result"
    }
   ],
   "source": [
    "#linspace->equally spaced numbers within the limit -> start,stop,count\n",
    "np.linspace(1,10,5)"
   ]
  },
  {
   "cell_type": "code",
   "execution_count": 15,
   "metadata": {},
   "outputs": [
    {
     "data": {
      "text/plain": [
       "(array([ 1.  ,  3.25,  5.5 ,  7.75, 10.  ]), 2.25)"
      ]
     },
     "execution_count": 15,
     "metadata": {},
     "output_type": "execute_result"
    }
   ],
   "source": [
    "np.linspace(1,10,5,retstep=True)"
   ]
  },
  {
   "cell_type": "code",
   "execution_count": 18,
   "metadata": {},
   "outputs": [
    {
     "data": {
      "text/plain": [
       "(array([ 10000,  20000,  30000,  40000,  50000,  60000,  70000,  80000,\n",
       "         90000, 100000]),\n",
       " 10000.0)"
      ]
     },
     "execution_count": 18,
     "metadata": {},
     "output_type": "execute_result"
    }
   ],
   "source": [
    "np.linspace(10000,100000,10,dtype=int,retstep=True)"
   ]
  },
  {
   "cell_type": "code",
   "execution_count": 19,
   "metadata": {},
   "outputs": [
    {
     "data": {
      "text/plain": [
       "(array([ 10.,  25.,  40.,  55.,  70.,  85., 100.]), 15.0)"
      ]
     },
     "execution_count": 19,
     "metadata": {},
     "output_type": "execute_result"
    }
   ],
   "source": [
    "np.linspace(10,100,7,retstep=True)"
   ]
  },
  {
   "cell_type": "code",
   "execution_count": 21,
   "metadata": {},
   "outputs": [
    {
     "data": {
      "text/plain": [
       "array([[11, 12,  5,  2],\n",
       "       [15, 45,  6, 10],\n",
       "       [10,  8, 12,  5],\n",
       "       [12, 15,  8,  6]])"
      ]
     },
     "execution_count": 21,
     "metadata": {},
     "output_type": "execute_result"
    }
   ],
   "source": [
    "c"
   ]
  },
  {
   "cell_type": "code",
   "execution_count": 24,
   "metadata": {},
   "outputs": [
    {
     "data": {
      "text/plain": [
       "array([11, 12,  5,  2, 15, 45,  6, 10, 10,  8, 12,  5, 12, 15,  8,  6])"
      ]
     },
     "execution_count": 24,
     "metadata": {},
     "output_type": "execute_result"
    }
   ],
   "source": [
    "\"\"\" ravel-\n",
    "converts nD array into 1D\n",
    "\"\"\"\n",
    "np.ravel(c)"
   ]
  },
  {
   "cell_type": "code",
   "execution_count": 23,
   "metadata": {},
   "outputs": [
    {
     "name": "stdout",
     "output_type": "stream",
     "text": [
      "[[11 12  5  2]\n",
      " [15 45  6 10]\n",
      " [10  8 12  5]\n",
      " [12 15  8  6]]\n"
     ]
    }
   ],
   "source": [
    "print(c)"
   ]
  },
  {
   "cell_type": "code",
   "execution_count": 25,
   "metadata": {},
   "outputs": [
    {
     "data": {
      "text/plain": [
       "array([ 2,  4,  6,  8, 10, 12, 14, 16, 18, 20])"
      ]
     },
     "execution_count": 25,
     "metadata": {},
     "output_type": "execute_result"
    }
   ],
   "source": [
    "# Q1) create an array with multiples of 2 from 2 to 20\n",
    "# Q2) convert a 3D array into 1D array\n",
    "np.arange(2,21,2)"
   ]
  },
  {
   "cell_type": "code",
   "execution_count": 29,
   "metadata": {},
   "outputs": [
    {
     "data": {
      "text/plain": [
       "array([[[2, 2, 3],\n",
       "        [2, 5, 6]],\n",
       "\n",
       "       [[7, 8, 9],\n",
       "        [3, 7, 5]]])"
      ]
     },
     "execution_count": 29,
     "metadata": {},
     "output_type": "execute_result"
    }
   ],
   "source": [
    "a3"
   ]
  },
  {
   "cell_type": "code",
   "execution_count": 33,
   "metadata": {},
   "outputs": [
    {
     "data": {
      "text/plain": [
       "array([2, 2, 3, 2, 5, 6, 7, 8, 9, 3, 7, 5])"
      ]
     },
     "execution_count": 33,
     "metadata": {},
     "output_type": "execute_result"
    }
   ],
   "source": [
    "a1 = np.ravel(a3)\n",
    "a1"
   ]
  },
  {
   "cell_type": "code",
   "execution_count": 32,
   "metadata": {},
   "outputs": [
    {
     "data": {
      "text/plain": [
       "array([ 2.,  4.,  6.,  8., 10., 12., 14., 16., 18., 20.])"
      ]
     },
     "execution_count": 32,
     "metadata": {},
     "output_type": "execute_result"
    }
   ],
   "source": [
    "np.linspace(2,20,10)"
   ]
  },
  {
   "cell_type": "code",
   "execution_count": 34,
   "metadata": {},
   "outputs": [
    {
     "data": {
      "text/plain": [
       "array([2, 2, 3, 2, 5, 6, 7, 8, 9, 3, 7, 5])"
      ]
     },
     "execution_count": 34,
     "metadata": {},
     "output_type": "execute_result"
    }
   ],
   "source": [
    "a1"
   ]
  },
  {
   "cell_type": "code",
   "execution_count": 36,
   "metadata": {},
   "outputs": [
    {
     "data": {
      "text/plain": [
       "(2, 2, 3)"
      ]
     },
     "execution_count": 36,
     "metadata": {},
     "output_type": "execute_result"
    }
   ],
   "source": [
    "a3.shape #3D aaray"
   ]
  },
  {
   "cell_type": "code",
   "execution_count": 37,
   "metadata": {},
   "outputs": [
    {
     "data": {
      "text/plain": [
       "array([[2, 2, 3],\n",
       "       [2, 5, 6],\n",
       "       [7, 8, 9],\n",
       "       [3, 7, 5]])"
      ]
     },
     "execution_count": 37,
     "metadata": {},
     "output_type": "execute_result"
    }
   ],
   "source": [
    "a3.reshape(4,3)"
   ]
  },
  {
   "cell_type": "code",
   "execution_count": 41,
   "metadata": {
    "scrolled": true
   },
   "outputs": [
    {
     "data": {
      "text/plain": [
       "array([[[ 51,  52,  53,  54,  55],\n",
       "        [ 56,  57,  58,  59,  60]],\n",
       "\n",
       "       [[ 61,  62,  63,  64,  65],\n",
       "        [ 66,  67,  68,  69,  70]],\n",
       "\n",
       "       [[ 71,  72,  73,  74,  75],\n",
       "        [ 76,  77,  78,  79,  80]],\n",
       "\n",
       "       [[ 81,  82,  83,  84,  85],\n",
       "        [ 86,  87,  88,  89,  90]],\n",
       "\n",
       "       [[ 91,  92,  93,  94,  95],\n",
       "        [ 96,  97,  98,  99, 100]]])"
      ]
     },
     "execution_count": 41,
     "metadata": {},
     "output_type": "execute_result"
    }
   ],
   "source": [
    "#Q) Create an array from 51 to 100 and the shape is 5,2,5\n",
    "np.arange(51,101).reshape(5,2,5)"
   ]
  },
  {
   "cell_type": "code",
   "execution_count": 50,
   "metadata": {},
   "outputs": [
    {
     "data": {
      "text/plain": [
       "array([[[0.6122611 ],\n",
       "        [0.22354492],\n",
       "        [0.66900322],\n",
       "        [0.04807501],\n",
       "        [0.93166829]],\n",
       "\n",
       "       [[0.43252774],\n",
       "        [0.25136547],\n",
       "        [0.00119351],\n",
       "        [0.98086316],\n",
       "        [0.6833954 ]]])"
      ]
     },
     "execution_count": 50,
     "metadata": {},
     "output_type": "execute_result"
    }
   ],
   "source": [
    "#random ->random nos. b/w 0 to 1\n",
    "np.random.random(10).reshape(2,5,1)"
   ]
  },
  {
   "cell_type": "code",
   "execution_count": 55,
   "metadata": {},
   "outputs": [
    {
     "data": {
      "text/plain": [
       "1"
      ]
     },
     "execution_count": 55,
     "metadata": {},
     "output_type": "execute_result"
    }
   ],
   "source": [
    "np.random.randint(5)# stop(E)"
   ]
  },
  {
   "cell_type": "code",
   "execution_count": 57,
   "metadata": {},
   "outputs": [
    {
     "data": {
      "text/plain": [
       "3"
      ]
     },
     "execution_count": 57,
     "metadata": {},
     "output_type": "execute_result"
    }
   ],
   "source": [
    "np.random.randint(1,15) # start,stop(E)"
   ]
  },
  {
   "cell_type": "code",
   "execution_count": 59,
   "metadata": {},
   "outputs": [
    {
     "data": {
      "text/plain": [
       "array([10,  6,  8])"
      ]
     },
     "execution_count": 59,
     "metadata": {},
     "output_type": "execute_result"
    }
   ],
   "source": [
    "np.random.randint(1,15,3) # start,stop(E),count"
   ]
  },
  {
   "cell_type": "code",
   "execution_count": 61,
   "metadata": {},
   "outputs": [
    {
     "data": {
      "text/plain": [
       "3195"
      ]
     },
     "execution_count": 61,
     "metadata": {},
     "output_type": "execute_result"
    }
   ],
   "source": [
    "np.random.randint(0,10000)"
   ]
  },
  {
   "cell_type": "code",
   "execution_count": 66,
   "metadata": {},
   "outputs": [
    {
     "data": {
      "text/plain": [
       "array([[364128., 340202., 241254., 164476., 213562.],\n",
       "       [842824., 897819., 573685., 764184., 124134.]])"
      ]
     },
     "execution_count": 66,
     "metadata": {},
     "output_type": "execute_result"
    }
   ],
   "source": [
    "# Q) Generate 10 random nos. and convert into 6 digit int and reshape it into 2,5\n",
    "a= np.random.random(10).reshape(2,5)*1000000\n",
    "np.round(a,0)"
   ]
  },
  {
   "cell_type": "code",
   "execution_count": 69,
   "metadata": {
    "scrolled": true
   },
   "outputs": [
    {
     "ename": "TypeError",
     "evalue": "only size-1 arrays can be converted to Python scalars",
     "output_type": "error",
     "traceback": [
      "\u001b[1;31m---------------------------------------------------------------------------\u001b[0m",
      "\u001b[1;31mTypeError\u001b[0m                                 Traceback (most recent call last)",
      "\u001b[1;32m<ipython-input-69-a26056d5e248>\u001b[0m in \u001b[0;36m<module>\u001b[1;34m\u001b[0m\n\u001b[1;32m----> 1\u001b[1;33m \u001b[0mint\u001b[0m\u001b[1;33m(\u001b[0m\u001b[0mnp\u001b[0m\u001b[1;33m.\u001b[0m\u001b[0mrandom\u001b[0m\u001b[1;33m.\u001b[0m\u001b[0mrandom\u001b[0m\u001b[1;33m(\u001b[0m\u001b[1;36m10\u001b[0m\u001b[1;33m)\u001b[0m\u001b[1;33m*\u001b[0m\u001b[1;36m1000000\u001b[0m\u001b[1;33m)\u001b[0m\u001b[1;33m\u001b[0m\u001b[1;33m\u001b[0m\u001b[0m\n\u001b[0m",
      "\u001b[1;31mTypeError\u001b[0m: only size-1 arrays can be converted to Python scalars"
     ]
    }
   ],
   "source": [
    "int(np.random.random(10)*1000000)"
   ]
  },
  {
   "cell_type": "code",
   "execution_count": 71,
   "metadata": {},
   "outputs": [
    {
     "data": {
      "text/plain": [
       "array([486456, 711201, 190875, 404750, 792795, 289301, 671847, 235527,\n",
       "       762166,  36091])"
      ]
     },
     "execution_count": 71,
     "metadata": {},
     "output_type": "execute_result"
    }
   ],
   "source": [
    "a=np.random.random(10)*1000000\n",
    "a.astype('int')"
   ]
  },
  {
   "cell_type": "code",
   "execution_count": 72,
   "metadata": {},
   "outputs": [
    {
     "data": {
      "text/plain": [
       "array([[503902, 214593, 815691, 841988, 821020],\n",
       "       [361342, 207879, 777364, 791111, 532969]])"
      ]
     },
     "execution_count": 72,
     "metadata": {},
     "output_type": "execute_result"
    }
   ],
   "source": [
    "(np.random.random(10).reshape(2,5)*1000000).astype('int')\n"
   ]
  },
  {
   "cell_type": "code",
   "execution_count": 73,
   "metadata": {
    "scrolled": true
   },
   "outputs": [
    {
     "data": {
      "text/plain": [
       "array([[11, 12,  5,  2],\n",
       "       [15, 45,  6, 10],\n",
       "       [10,  8, 12,  5],\n",
       "       [12, 15,  8,  6]])"
      ]
     },
     "execution_count": 73,
     "metadata": {},
     "output_type": "execute_result"
    }
   ],
   "source": [
    "#Stacking->hstack,vstack\n",
    "c"
   ]
  },
  {
   "cell_type": "code",
   "execution_count": 78,
   "metadata": {},
   "outputs": [
    {
     "data": {
      "text/plain": [
       "array([[ 1,  2,  3,  4],\n",
       "       [ 5,  6,  7,  8],\n",
       "       [ 9, 10, 11, 12],\n",
       "       [13, 14, 15, 16]])"
      ]
     },
     "execution_count": 78,
     "metadata": {},
     "output_type": "execute_result"
    }
   ],
   "source": [
    "d=np.arange(1,17).reshape(4,4)\n",
    "d"
   ]
  },
  {
   "cell_type": "code",
   "execution_count": 79,
   "metadata": {},
   "outputs": [
    {
     "data": {
      "text/plain": [
       "array([[11, 12,  5,  2,  1,  2,  3,  4],\n",
       "       [15, 45,  6, 10,  5,  6,  7,  8],\n",
       "       [10,  8, 12,  5,  9, 10, 11, 12],\n",
       "       [12, 15,  8,  6, 13, 14, 15, 16]])"
      ]
     },
     "execution_count": 79,
     "metadata": {},
     "output_type": "execute_result"
    }
   ],
   "source": [
    "np.hstack((c,d))"
   ]
  },
  {
   "cell_type": "code",
   "execution_count": null,
   "metadata": {},
   "outputs": [],
   "source": []
  },
  {
   "cell_type": "code",
   "execution_count": 80,
   "metadata": {
    "scrolled": false
   },
   "outputs": [
    {
     "data": {
      "text/plain": [
       "array([[11, 12,  5,  2],\n",
       "       [15, 45,  6, 10],\n",
       "       [10,  8, 12,  5],\n",
       "       [12, 15,  8,  6],\n",
       "       [ 1,  2,  3,  4],\n",
       "       [ 5,  6,  7,  8],\n",
       "       [ 9, 10, 11, 12],\n",
       "       [13, 14, 15, 16]])"
      ]
     },
     "execution_count": 80,
     "metadata": {},
     "output_type": "execute_result"
    }
   ],
   "source": [
    "np.vstack((c,d))"
   ]
  },
  {
   "cell_type": "code",
   "execution_count": 87,
   "metadata": {},
   "outputs": [
    {
     "data": {
      "text/plain": [
       "array([[ 1,  2,  3,  4,  5],\n",
       "       [ 6,  7,  8,  9, 10],\n",
       "       [11, 12, 13, 14, 15],\n",
       "       [16, 17, 18, 19, 20]])"
      ]
     },
     "execution_count": 87,
     "metadata": {},
     "output_type": "execute_result"
    }
   ],
   "source": [
    "new =np.arange(1,21).reshape(4,5)\n",
    "new"
   ]
  },
  {
   "cell_type": "code",
   "execution_count": 85,
   "metadata": {},
   "outputs": [
    {
     "data": {
      "text/plain": [
       "array([[11, 12,  5,  2],\n",
       "       [15, 45,  6, 10],\n",
       "       [10,  8, 12,  5],\n",
       "       [12, 15,  8,  6],\n",
       "       [ 1,  2,  3,  4],\n",
       "       [ 5,  6,  7,  8],\n",
       "       [ 9, 10, 11, 12],\n",
       "       [13, 14, 15, 16],\n",
       "       [17, 18, 19, 20]])"
      ]
     },
     "execution_count": 85,
     "metadata": {},
     "output_type": "execute_result"
    }
   ],
   "source": [
    "np.vstack((c,new)) # columns equal"
   ]
  },
  {
   "cell_type": "code",
   "execution_count": 88,
   "metadata": {},
   "outputs": [
    {
     "data": {
      "text/plain": [
       "array([[11, 12,  5,  2,  1,  2,  3,  4,  5],\n",
       "       [15, 45,  6, 10,  6,  7,  8,  9, 10],\n",
       "       [10,  8, 12,  5, 11, 12, 13, 14, 15],\n",
       "       [12, 15,  8,  6, 16, 17, 18, 19, 20]])"
      ]
     },
     "execution_count": 88,
     "metadata": {},
     "output_type": "execute_result"
    }
   ],
   "source": [
    "np.hstack((c,new)) # rows equal"
   ]
  },
  {
   "cell_type": "code",
   "execution_count": 91,
   "metadata": {},
   "outputs": [
    {
     "data": {
      "text/plain": [
       "array([[11, 12,  5,  2],\n",
       "       [15, 45,  6, 10],\n",
       "       [10,  8, 12,  5],\n",
       "       [12, 15,  8,  6]])"
      ]
     },
     "execution_count": 91,
     "metadata": {},
     "output_type": "execute_result"
    }
   ],
   "source": [
    "c"
   ]
  },
  {
   "cell_type": "code",
   "execution_count": 89,
   "metadata": {
    "scrolled": true
   },
   "outputs": [
    {
     "data": {
      "text/plain": [
       "[array([[11, 12],\n",
       "        [15, 45],\n",
       "        [10,  8],\n",
       "        [12, 15]]),\n",
       " array([[ 5,  2],\n",
       "        [ 6, 10],\n",
       "        [12,  5],\n",
       "        [ 8,  6]])]"
      ]
     },
     "execution_count": 89,
     "metadata": {},
     "output_type": "execute_result"
    }
   ],
   "source": [
    "# Splitting->hsplit,vsplit\n",
    "np.hsplit(c,2)"
   ]
  },
  {
   "cell_type": "code",
   "execution_count": 90,
   "metadata": {},
   "outputs": [
    {
     "data": {
      "text/plain": [
       "[array([[11, 12,  5,  2]]),\n",
       " array([[15, 45,  6, 10]]),\n",
       " array([[10,  8, 12,  5]]),\n",
       " array([[12, 15,  8,  6]])]"
      ]
     },
     "execution_count": 90,
     "metadata": {},
     "output_type": "execute_result"
    }
   ],
   "source": [
    "np.vsplit(c,4)"
   ]
  },
  {
   "cell_type": "code",
   "execution_count": 92,
   "metadata": {},
   "outputs": [],
   "source": [
    "a1 = np.array([[ 1,  2,  3,  4],\n",
    "       [ 5,  6,  7,  8],\n",
    "       [ 9, 10, 11, 12],\n",
    "       [13, 14, 15, 16]])\n",
    "a2=np.array([[ 1,  2,  3],\n",
    "       [ 4,  5,  6],\n",
    "       [ 7,  8,  9],\n",
    "       [10, 11, 12]])\n"
   ]
  },
  {
   "cell_type": "code",
   "execution_count": 93,
   "metadata": {},
   "outputs": [
    {
     "data": {
      "text/plain": [
       "array([[ 1,  2,  3,  4,  1,  2,  3],\n",
       "       [ 5,  6,  7,  8,  4,  5,  6],\n",
       "       [ 9, 10, 11, 12,  7,  8,  9],\n",
       "       [13, 14, 15, 16, 10, 11, 12]])"
      ]
     },
     "execution_count": 93,
     "metadata": {},
     "output_type": "execute_result"
    }
   ],
   "source": [
    "np.hstack((a1,a2))"
   ]
  },
  {
   "cell_type": "code",
   "execution_count": null,
   "metadata": {},
   "outputs": [],
   "source": []
  }
 ],
 "metadata": {
  "kernelspec": {
   "display_name": "Python 3",
   "language": "python",
   "name": "python3"
  },
  "language_info": {
   "codemirror_mode": {
    "name": "ipython",
    "version": 3
   },
   "file_extension": ".py",
   "mimetype": "text/x-python",
   "name": "python",
   "nbconvert_exporter": "python",
   "pygments_lexer": "ipython3",
   "version": "3.8.3"
  }
 },
 "nbformat": 4,
 "nbformat_minor": 4
}
