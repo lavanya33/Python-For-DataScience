{
 "cells": [
  {
   "cell_type": "markdown",
   "metadata": {},
   "source": [
    "## Agenda\n",
    "* Menus, toolbars and shortcut keys of Jupyter NB\n",
    "* Python Introduction & Features\n",
    "* Basic Programming syntax\n",
    "* Data Types\n",
    "* Typecasting\n",
    "* Slicing\n",
    "* Operators\n",
    "* Some functions"
   ]
  },
  {
   "cell_type": "markdown",
   "metadata": {},
   "source": [
    "## Short cut keys\n",
    "* A->insert cells above\n",
    "* B->insert cells below\n",
    "* dd->delete the cell\n",
    "* shift+Enter->Run the cell and goes to next cell\n",
    "* ctrl+Enter->Run the cell and stays in the same cell\n",
    "* M->markdown the cell\n",
    "* Y->code option in the cell\n",
    "* R-> raw in the cell"
   ]
  },
  {
   "cell_type": "markdown",
   "metadata": {},
   "source": [
    "### Python\n",
    "* 1991, Guido Van Rossum\n",
    "* simple,easy to learn\n",
    "* Object -oriented language\n",
    "* open source\n",
    "* powerful DataScience,Web applications\n",
    "* portable,interactive\n",
    "* open community group"
   ]
  },
  {
   "cell_type": "markdown",
   "metadata": {},
   "source": [
    "### Basic Programming Syntax\n",
    "* comments-single,multi-line\n",
    "* print\n",
    "* Identifiers,variables"
   ]
  },
  {
   "cell_type": "raw",
   "metadata": {},
   "source": [
    "# single line comment\n",
    "\"\"\"\"\"\" or '''''' multi line comment"
   ]
  },
  {
   "cell_type": "code",
   "execution_count": 1,
   "metadata": {},
   "outputs": [
    {
     "name": "stdout",
     "output_type": "stream",
     "text": [
      "Good Evening\n"
     ]
    }
   ],
   "source": [
    "# This is single line comment\n",
    "print(\"Good Evening\") "
   ]
  },
  {
   "cell_type": "code",
   "execution_count": 2,
   "metadata": {},
   "outputs": [
    {
     "name": "stdout",
     "output_type": "stream",
     "text": [
      "How are you all?\n"
     ]
    }
   ],
   "source": [
    "'''This is first line\n",
    "second line\n",
    "third line'''\n",
    "print(\"How are you all?\")"
   ]
  },
  {
   "cell_type": "code",
   "execution_count": 3,
   "metadata": {},
   "outputs": [
    {
     "name": "stdout",
     "output_type": "stream",
     "text": [
      "Sorry for the inconvenience\n"
     ]
    }
   ],
   "source": [
    "\"\"\"This is first line\n",
    "second line\n",
    "third line\"\"\"\n",
    "print(\"Sorry for the inconvenience\")"
   ]
  },
  {
   "cell_type": "code",
   "execution_count": null,
   "metadata": {},
   "outputs": [],
   "source": []
  }
 ],
 "metadata": {
  "kernelspec": {
   "display_name": "Python 3",
   "language": "python",
   "name": "python3"
  },
  "language_info": {
   "codemirror_mode": {
    "name": "ipython",
    "version": 3
   },
   "file_extension": ".py",
   "mimetype": "text/x-python",
   "name": "python",
   "nbconvert_exporter": "python",
   "pygments_lexer": "ipython3",
   "version": "3.8.3"
  }
 },
 "nbformat": 4,
 "nbformat_minor": 4
}
