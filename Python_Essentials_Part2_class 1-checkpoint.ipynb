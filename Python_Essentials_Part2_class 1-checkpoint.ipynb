{
 "cells": [
  {
   "cell_type": "markdown",
   "metadata": {},
   "source": [
    "## Agenda\n",
    "* Conditional statements\n",
    "* Loops\n",
    "* List\n",
    "* Tuples\n",
    "* Dictionary\n",
    "* Sets\n",
    "* Functions"
   ]
  },
  {
   "cell_type": "markdown",
   "metadata": {},
   "source": [
    "### Conditional Statements->if, if-else, elif"
   ]
  },
  {
   "cell_type": "code",
   "execution_count": 6,
   "metadata": {
    "collapsed": true
   },
   "outputs": [
    {
     "name": "stdout",
     "output_type": "stream",
     "text": [
      "The number is positive\n",
      "Inside if\n",
      "Outside if\n"
     ]
    }
   ],
   "source": [
    "# if \n",
    "num = 5\n",
    "if(num>0):\n",
    "    print(\"The number is positive\")\n",
    "    print(\"Inside if\")\n",
    "print(\"Outside if\")    "
   ]
  },
  {
   "cell_type": "code",
   "execution_count": 10,
   "metadata": {},
   "outputs": [
    {
     "name": "stdout",
     "output_type": "stream",
     "text": [
      "Enter a number0\n",
      "The number is negative\n",
      "Inside else\n",
      "Outside if-else\n"
     ]
    }
   ],
   "source": [
    "# if -else\n",
    "num =int(input(\"Enter a number\"))\n",
    "if(num>0):\n",
    "    print(\"The number is positive\")\n",
    "    print(\"Inside if\")\n",
    "else:\n",
    "    print(\"The number is negative\")\n",
    "    print(\"Inside else\")\n",
    "print(\"Outside if-else\") "
   ]
  },
  {
   "cell_type": "code",
   "execution_count": 13,
   "metadata": {},
   "outputs": [
    {
     "name": "stdout",
     "output_type": "stream",
     "text": [
      "Enter a number5\n",
      "The number is positive\n",
      "Inside if\n",
      "Outside if-elif\n"
     ]
    }
   ],
   "source": [
    "# if -elif\n",
    "num =int(input(\"Enter a number\"))\n",
    "if(num>0):\n",
    "    print(\"The number is positive\")\n",
    "    print(\"Inside if\")\n",
    "elif(num<0):\n",
    "    print(\"The number is negative\")\n",
    "    print(\"Inside elif\")\n",
    "else:\n",
    "    print(\"The number is Zero\")\n",
    "    print(\"Inside else\")\n",
    "print(\"Outside if-elif\") "
   ]
  },
  {
   "cell_type": "code",
   "execution_count": 17,
   "metadata": {},
   "outputs": [
    {
     "name": "stdout",
     "output_type": "stream",
     "text": [
      "Enter a number29\n",
      "NOT\n"
     ]
    }
   ],
   "source": [
    "# Q) Check whether the given no is divisible by 2,3, 2 and 3\n",
    "# 12,4,21 \n",
    "num =int(input(\"Enter a number\"))\n",
    "if((num%2==0) and (num%3==0)):\n",
    "    print(\"Both 2 and 3\")\n",
    "elif(num%2==0):\n",
    "    print(\"2\")\n",
    "elif num%3==0 :\n",
    "    print(\"3\")\n",
    "else:\n",
    "    print(\"NOT\")"
   ]
  },
  {
   "cell_type": "markdown",
   "metadata": {},
   "source": [
    "### Loops-> for, while\n"
   ]
  },
  {
   "cell_type": "code",
   "execution_count": 19,
   "metadata": {},
   "outputs": [
    {
     "name": "stdout",
     "output_type": "stream",
     "text": [
      "I crossed 1 step\n",
      "I crossed 2 step\n",
      "I crossed 3 step\n",
      "I crossed 4 step\n",
      "I crossed 5 step\n",
      "I crossed 6 step\n",
      "I crossed 7 step\n",
      "I crossed 8 step\n",
      "I crossed 9 step\n",
      "I crossed 10 step\n",
      "End of the program\n"
     ]
    }
   ],
   "source": [
    "# while loop\n",
    "i=1\n",
    "while(i<=10):\n",
    "    print(\"I crossed {} step\".format(i))\n",
    "    i=i+1\n",
    "print(\"End of the program\")"
   ]
  },
  {
   "cell_type": "code",
   "execution_count": 21,
   "metadata": {},
   "outputs": [
    {
     "name": "stdout",
     "output_type": "stream",
     "text": [
      "I crossed 100 step\n",
      "I crossed 98 step\n",
      "I crossed 96 step\n",
      "I crossed 94 step\n",
      "I crossed 92 step\n",
      "I crossed 90 step\n",
      "End of the program\n"
     ]
    }
   ],
   "source": [
    "#Q) print 100 to 90 in the reverse order using while loop\n",
    "i=100\n",
    "while(i>=90):\n",
    "    print(\"I crossed {} step\".format(i))\n",
    "    i=i-2\n",
    "print(\"End of the program\")"
   ]
  },
  {
   "cell_type": "code",
   "execution_count": 22,
   "metadata": {
    "collapsed": true
   },
   "outputs": [
    {
     "name": "stdout",
     "output_type": "stream",
     "text": [
      "0\n",
      "1\n",
      "2\n",
      "3\n",
      "4\n"
     ]
    }
   ],
   "source": [
    "#for loop->range-3 params-start,stop(E),step\n",
    "for i in range(5):  # stop(E)\n",
    "    print(i)"
   ]
  },
  {
   "cell_type": "code",
   "execution_count": 23,
   "metadata": {
    "collapsed": true
   },
   "outputs": [
    {
     "name": "stdout",
     "output_type": "stream",
     "text": [
      "1\n",
      "2\n",
      "3\n",
      "4\n"
     ]
    }
   ],
   "source": [
    "for i in range(1,5): #start,stop(E)\n",
    "    print(i)"
   ]
  },
  {
   "cell_type": "code",
   "execution_count": 24,
   "metadata": {
    "collapsed": true
   },
   "outputs": [
    {
     "name": "stdout",
     "output_type": "stream",
     "text": [
      "1\n",
      "3\n",
      "5\n",
      "7\n",
      "9\n"
     ]
    }
   ],
   "source": [
    "for i in range(1,10,2): #start,stop(E),step\n",
    "    print(i)"
   ]
  },
  {
   "cell_type": "code",
   "execution_count": 25,
   "metadata": {
    "collapsed": true
   },
   "outputs": [
    {
     "name": "stdout",
     "output_type": "stream",
     "text": [
      "I crossed 1 step\n",
      "I crossed 2 step\n",
      "I crossed 3 step\n",
      "I crossed 4 step\n",
      "I crossed 5 step\n",
      "I crossed 6 step\n",
      "I crossed 7 step\n",
      "I crossed 8 step\n",
      "I crossed 9 step\n",
      "I crossed 10 step\n"
     ]
    }
   ],
   "source": [
    "for i in range(1,11):\n",
    "    print(\"I crossed {} step\".format(i))"
   ]
  },
  {
   "cell_type": "code",
   "execution_count": 26,
   "metadata": {
    "collapsed": true
   },
   "outputs": [
    {
     "name": "stdout",
     "output_type": "stream",
     "text": [
      "I crossed 100 step\n",
      "I crossed 98 step\n",
      "I crossed 96 step\n",
      "I crossed 94 step\n",
      "I crossed 92 step\n",
      "I crossed 90 step\n"
     ]
    }
   ],
   "source": [
    "for i in range(100,89,-2):\n",
    "    print(\"I crossed {} step\".format(i))"
   ]
  },
  {
   "cell_type": "code",
   "execution_count": 27,
   "metadata": {},
   "outputs": [
    {
     "name": "stdout",
     "output_type": "stream",
     "text": [
      "Enter the number5\n",
      "Sum= 15\n"
     ]
    }
   ],
   "source": [
    "# sum of nos for loop\n",
    "num = int(input(\"Enter the number\"))\n",
    "sum=0\n",
    "for i in range(num+1):\n",
    "    sum = sum+i\n",
    "print(\"Sum=\",sum)"
   ]
  },
  {
   "cell_type": "code",
   "execution_count": 31,
   "metadata": {},
   "outputs": [
    {
     "name": "stdout",
     "output_type": "stream",
     "text": [
      "Sum= 1275\n"
     ]
    }
   ],
   "source": [
    "# sum of nos for loop\n",
    "sum=0\n",
    "for i in range(1,51):\n",
    "    sum = sum+i\n",
    "print(\"Sum=\",sum)"
   ]
  },
  {
   "cell_type": "markdown",
   "metadata": {},
   "source": [
    "### List\n",
    "* heterogeneous collection of elements\n",
    "* []\n",
    "* mutable- change/modify\n",
    "* operations->insert,delete"
   ]
  },
  {
   "cell_type": "code",
   "execution_count": 32,
   "metadata": {},
   "outputs": [
    {
     "data": {
      "text/plain": [
       "[1, 2, 6.7, 'hi', True]"
      ]
     },
     "execution_count": 32,
     "metadata": {},
     "output_type": "execute_result"
    }
   ],
   "source": [
    "r1 = [1,2,6.7,'hi',True]\n",
    "r1"
   ]
  },
  {
   "cell_type": "code",
   "execution_count": 33,
   "metadata": {},
   "outputs": [
    {
     "data": {
      "text/plain": [
       "list"
      ]
     },
     "execution_count": 33,
     "metadata": {},
     "output_type": "execute_result"
    }
   ],
   "source": [
    "type(r1)"
   ]
  },
  {
   "cell_type": "code",
   "execution_count": 36,
   "metadata": {},
   "outputs": [
    {
     "data": {
      "text/plain": [
       "6.7"
      ]
     },
     "execution_count": 36,
     "metadata": {},
     "output_type": "execute_result"
    }
   ],
   "source": [
    "#Extract values\n",
    "r1[2]"
   ]
  },
  {
   "cell_type": "code",
   "execution_count": 38,
   "metadata": {
    "scrolled": true
   },
   "outputs": [
    {
     "data": {
      "text/plain": [
       "[6.7, 'hi', True]"
      ]
     },
     "execution_count": 38,
     "metadata": {},
     "output_type": "execute_result"
    }
   ],
   "source": [
    "r1[2:]"
   ]
  },
  {
   "cell_type": "code",
   "execution_count": 40,
   "metadata": {},
   "outputs": [
    {
     "data": {
      "text/plain": [
       "True"
      ]
     },
     "execution_count": 40,
     "metadata": {},
     "output_type": "execute_result"
    }
   ],
   "source": [
    "r1[-1]"
   ]
  },
  {
   "cell_type": "code",
   "execution_count": 45,
   "metadata": {},
   "outputs": [
    {
     "data": {
      "text/plain": [
       "[True, 'hi', 6.7]"
      ]
     },
     "execution_count": 45,
     "metadata": {},
     "output_type": "execute_result"
    }
   ],
   "source": [
    "d= r1[-1:-4:-1]\n",
    "d"
   ]
  },
  {
   "cell_type": "code",
   "execution_count": 46,
   "metadata": {},
   "outputs": [
    {
     "data": {
      "text/plain": [
       "[6.7, 'hi', True]"
      ]
     },
     "execution_count": 46,
     "metadata": {},
     "output_type": "execute_result"
    }
   ],
   "source": [
    "d.reverse() # Reverse the d list\n",
    "d"
   ]
  },
  {
   "cell_type": "code",
   "execution_count": 47,
   "metadata": {},
   "outputs": [
    {
     "data": {
      "text/plain": [
       "[1, 2, 6, 'hi', True]"
      ]
     },
     "execution_count": 47,
     "metadata": {},
     "output_type": "execute_result"
    }
   ],
   "source": [
    "r1[2] = 6\n",
    "r1"
   ]
  },
  {
   "cell_type": "code",
   "execution_count": null,
   "metadata": {},
   "outputs": [],
   "source": []
  },
  {
   "cell_type": "code",
   "execution_count": null,
   "metadata": {},
   "outputs": [],
   "source": []
  },
  {
   "cell_type": "markdown",
   "metadata": {},
   "source": [
    "### Tuples\n",
    "* hetereogeneous collection of elements\n",
    "* ()\n",
    "* immutable"
   ]
  },
  {
   "cell_type": "code",
   "execution_count": 34,
   "metadata": {},
   "outputs": [
    {
     "data": {
      "text/plain": [
       "(1, 2, 6.7, 'hi', True)"
      ]
     },
     "execution_count": 34,
     "metadata": {},
     "output_type": "execute_result"
    }
   ],
   "source": [
    "t1 = (1,2,6.7,'hi',True)\n",
    "t1"
   ]
  },
  {
   "cell_type": "code",
   "execution_count": 35,
   "metadata": {
    "scrolled": true
   },
   "outputs": [
    {
     "data": {
      "text/plain": [
       "tuple"
      ]
     },
     "execution_count": 35,
     "metadata": {},
     "output_type": "execute_result"
    }
   ],
   "source": [
    "type(t1)"
   ]
  },
  {
   "cell_type": "code",
   "execution_count": 37,
   "metadata": {
    "scrolled": true
   },
   "outputs": [
    {
     "data": {
      "text/plain": [
       "6.7"
      ]
     },
     "execution_count": 37,
     "metadata": {},
     "output_type": "execute_result"
    }
   ],
   "source": [
    "t1[2]"
   ]
  },
  {
   "cell_type": "code",
   "execution_count": 39,
   "metadata": {},
   "outputs": [
    {
     "data": {
      "text/plain": [
       "(6.7, 'hi', True)"
      ]
     },
     "execution_count": 39,
     "metadata": {},
     "output_type": "execute_result"
    }
   ],
   "source": [
    "t1[2:]"
   ]
  },
  {
   "cell_type": "code",
   "execution_count": 48,
   "metadata": {
    "scrolled": true
   },
   "outputs": [
    {
     "ename": "TypeError",
     "evalue": "'tuple' object does not support item assignment",
     "output_type": "error",
     "traceback": [
      "\u001b[1;31m---------------------------------------------------------------------------\u001b[0m",
      "\u001b[1;31mTypeError\u001b[0m                                 Traceback (most recent call last)",
      "\u001b[1;32m<ipython-input-48-ef39b93af165>\u001b[0m in \u001b[0;36m<module>\u001b[1;34m\u001b[0m\n\u001b[1;32m----> 1\u001b[1;33m \u001b[0mt1\u001b[0m\u001b[1;33m[\u001b[0m\u001b[1;36m2\u001b[0m\u001b[1;33m]\u001b[0m \u001b[1;33m=\u001b[0m\u001b[1;36m6\u001b[0m\u001b[1;33m\u001b[0m\u001b[1;33m\u001b[0m\u001b[0m\n\u001b[0m\u001b[0;32m      2\u001b[0m \u001b[0mt1\u001b[0m\u001b[1;33m\u001b[0m\u001b[1;33m\u001b[0m\u001b[0m\n",
      "\u001b[1;31mTypeError\u001b[0m: 'tuple' object does not support item assignment"
     ]
    }
   ],
   "source": [
    "t1[2] =6\n",
    "t1"
   ]
  },
  {
   "cell_type": "markdown",
   "metadata": {},
   "source": [
    "### Dictionary\n",
    "* collection of key/value pairs\n",
    "* {},':' separate key & value\n",
    "* change value not key, key is unique"
   ]
  },
  {
   "cell_type": "markdown",
   "metadata": {},
   "source": [
    "## Set\n",
    "* collection of heterogeneous unique elements\n",
    "* arranged in ascending order\n",
    "* operations->union,intersection\n",
    "* {}"
   ]
  },
  {
   "cell_type": "markdown",
   "metadata": {},
   "source": [
    "### Functions\n",
    "* def keyword\n",
    "* readability & understandability\n",
    "* easy to debug"
   ]
  },
  {
   "cell_type": "raw",
   "metadata": {},
   "source": [
    "Q1) Find the area of traingle using functions\n",
    "Q2) Calculate volume of cubhoid(10,15,20) and after that convert into a rectangle with length 15 and find the breadth.Use functions."
   ]
  }
 ],
 "metadata": {
  "kernelspec": {
   "display_name": "Python 3",
   "language": "python",
   "name": "python3"
  },
  "language_info": {
   "codemirror_mode": {
    "name": "ipython",
    "version": 3
   },
   "file_extension": ".py",
   "mimetype": "text/x-python",
   "name": "python",
   "nbconvert_exporter": "python",
   "pygments_lexer": "ipython3",
   "version": "3.8.3"
  }
 },
 "nbformat": 4,
 "nbformat_minor": 4
}
